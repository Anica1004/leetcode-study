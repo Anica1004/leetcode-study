{
 "cells": [
  {
   "cell_type": "code",
   "execution_count": null,
   "id": "07209b6a-f568-4afd-bf7e-c1fc5d668261",
   "metadata": {},
   "outputs": [],
   "source": [
    "class Solution:\n",
    "    def canPartition(self, nums: List[int]) -> bool:\n",
    "        if sum(nums) % 2 == 1:\n",
    "            return False\n",
    "\n",
    "        target = sum(nums) //2\n",
    "        memo = {}\n",
    "\n",
    "        def backtrack(i, t):\n",
    "            if (i, t) in memo:\n",
    "                return memo[(i, t)]\n",
    "            if i >= len(nums):\n",
    "                return False\n",
    "            if t == nums[i]:\n",
    "                return True\n",
    "            if t == 0:\n",
    "                return True\n",
    "            include = backtrack(i+1, t-nums[i])\n",
    "            memo[(i+1, t-nums[i])] = include\n",
    "            exclude = backtrack(i+1, t)\n",
    "            memo[(i+1, t)] = exclude\n",
    "\n",
    "            if include or exclude:\n",
    "                return True\n",
    "\n",
    "            return False\n",
    "        \n",
    "        return backtrack(0, target)\n",
    "\n",
    "\n",
    "            "
   ]
  }
 ],
 "metadata": {
  "kernelspec": {
   "display_name": "Python 3 (ipykernel)",
   "language": "python",
   "name": "python3"
  },
  "language_info": {
   "codemirror_mode": {
    "name": "ipython",
    "version": 3
   },
   "file_extension": ".py",
   "mimetype": "text/x-python",
   "name": "python",
   "nbconvert_exporter": "python",
   "pygments_lexer": "ipython3",
   "version": "3.12.3"
  }
 },
 "nbformat": 4,
 "nbformat_minor": 5
}
