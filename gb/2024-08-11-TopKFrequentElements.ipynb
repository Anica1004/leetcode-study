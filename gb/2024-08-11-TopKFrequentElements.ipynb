{
 "cells": [
  {
   "cell_type": "code",
   "execution_count": null,
   "id": "1d18c2f4-9ab2-40c7-8b10-9d186103fe61",
   "metadata": {},
   "outputs": [],
   "source": [
    "# Given an integer array nums and an integer k, return the k most frequent elements. You may return the answer in any order.\n",
    "\n",
    " \n",
    "\n",
    "# Example 1:\n",
    "\n",
    "# Input: nums = [1,1,1,2,2,3], k = 2\n",
    "# Output: [1,2]\n",
    "# Example 2:\n",
    "\n",
    "# Input: nums = [1], k = 1\n",
    "# Output: [1]\n",
    "\n",
    "class Solution:\n",
    "    def topKFrequent(self, nums: List[int], k: int) -> List[int]:\n",
    "        \n",
    "        intCount = collections.defaultdict(int)\n",
    "\n",
    "        for num in nums:\n",
    "            intCount[num] += 1\n",
    "        # max heap\n",
    "        maxHeap = []\n",
    "        for key, val in intCount.items():\n",
    "            heapq.heappush(maxHeap, (-1 * val, key))\n",
    "        res = []\n",
    "        \n",
    "        while k > 0:\n",
    "            intTuple = heapq.heappop(maxHeap)\n",
    "            res.append(intTuple[1])\n",
    "            k -= 1\n",
    "        \n",
    "        return res"
   ]
  }
 ],
 "metadata": {
  "kernelspec": {
   "display_name": "Python 3 (ipykernel)",
   "language": "python",
   "name": "python3"
  },
  "language_info": {
   "codemirror_mode": {
    "name": "ipython",
    "version": 3
   },
   "file_extension": ".py",
   "mimetype": "text/x-python",
   "name": "python",
   "nbconvert_exporter": "python",
   "pygments_lexer": "ipython3",
   "version": "3.12.3"
  }
 },
 "nbformat": 4,
 "nbformat_minor": 5
}
