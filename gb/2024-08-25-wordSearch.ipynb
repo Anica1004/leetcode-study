{
 "cells": [
  {
   "cell_type": "code",
   "execution_count": null,
   "id": "3a372bd1-51df-4500-b74f-5b0ef53f6896",
   "metadata": {},
   "outputs": [],
   "source": [
    "class Solution:\n",
    "    def exist(self, board: List[List[str]], word: str) -> bool:\n",
    "        startPoints = []\n",
    "        def findStartPoints():\n",
    "            for row in range(len(board)):\n",
    "                for col in range(len(board[0])):\n",
    "                    if board[row][col] == word[0]:\n",
    "                        startPoints.append((row, col))\n",
    "            return startPoints\n",
    "        \n",
    "        findStartPoints()\n",
    "\n",
    "        # we have the start points\n",
    "\n",
    "        # dfs\n",
    "        directions = [(-1, 0), (0, 1), (1, 0), (0, -1)]\n",
    "        def dfs(r, c, i):\n",
    "            # base case\n",
    "            if i == len(word):\n",
    "                return True\n",
    "            if (r < 0 or c < 0 or r >= len(board) or c >= len(board[0]) or\n",
    "                ((r, c) in seen) or board[r][c] != word[i]):\n",
    "                return False\n",
    "\n",
    "            seen.add((r,c))\n",
    "            for k, l in directions:\n",
    "                if dfs(r + k, c + l, i+1):\n",
    "                    return True\n",
    "            seen.remove((r, c))\n",
    "\n",
    "        for startRow, startCol in startPoints:\n",
    "            print('start points ', (startRow, startCol))\n",
    "            seen = set()\n",
    "            if dfs(startRow, startCol, 0):\n",
    "                return True\n",
    "        return False"
   ]
  }
 ],
 "metadata": {
  "kernelspec": {
   "display_name": "Python 3 (ipykernel)",
   "language": "python",
   "name": "python3"
  },
  "language_info": {
   "codemirror_mode": {
    "name": "ipython",
    "version": 3
   },
   "file_extension": ".py",
   "mimetype": "text/x-python",
   "name": "python",
   "nbconvert_exporter": "python",
   "pygments_lexer": "ipython3",
   "version": "3.12.3"
  }
 },
 "nbformat": 4,
 "nbformat_minor": 5
}
