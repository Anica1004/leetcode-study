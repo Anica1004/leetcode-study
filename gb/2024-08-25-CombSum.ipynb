{
 "cells": [
  {
   "cell_type": "code",
   "execution_count": null,
   "id": "0df5d3fb-95bf-4025-8eaa-9d99e2a7a861",
   "metadata": {},
   "outputs": [],
   "source": [
    "class Solution:\n",
    "    def combinationSum(self, candidates: List[int], target: int) -> List[List[int]]:\n",
    "        \n",
    "\n",
    "\n",
    "# Input: candidates = [2,3,5], target = 8\n",
    "# Output: [[2,2,2,2],[2,3,3],[3,5]]\n",
    "\n",
    "        dp = [[[] for _ in range(target+1)] for _ in range(len(candidates))]\n",
    "        candidates.sort()\n",
    "        ROWS, COLS = len(candidates), target+1\n",
    "\n",
    "        for r in range(ROWS):\n",
    "            for c in range(COLS):\n",
    "                can = candidates[r]\n",
    "                if can == c:\n",
    "                    dp[r][c].append([can])\n",
    "                elif can < c:\n",
    "                    for comb in dp[r][c - can]:\n",
    "                        dp[r][c].append(comb + [can])\n",
    "\n",
    "\n",
    "\n",
    "        \n",
    "\n",
    "        return dp[-1][-1]"
   ]
  }
 ],
 "metadata": {
  "kernelspec": {
   "display_name": "Python 3 (ipykernel)",
   "language": "python",
   "name": "python3"
  },
  "language_info": {
   "codemirror_mode": {
    "name": "ipython",
    "version": 3
   },
   "file_extension": ".py",
   "mimetype": "text/x-python",
   "name": "python",
   "nbconvert_exporter": "python",
   "pygments_lexer": "ipython3",
   "version": "3.12.3"
  }
 },
 "nbformat": 4,
 "nbformat_minor": 5
}
