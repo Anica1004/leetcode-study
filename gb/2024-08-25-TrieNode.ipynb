{
 "cells": [
  {
   "cell_type": "code",
   "execution_count": null,
   "id": "37eab990-251b-4474-9fc3-870b47b425c9",
   "metadata": {},
   "outputs": [],
   "source": [
    "\n",
    "class TrieNode:\n",
    "    def __init__(self):\n",
    "        self.children = {} # key char value is TrieNode\n",
    "        self.isEndWord = False\n",
    "\n",
    "class Trie:\n",
    "    def __init_(self):\n",
    "        self.root = TrieNode()\n",
    "\n",
    "    def insertWord(self, word):\n",
    "        currNode = self.root\n",
    "        for c in word:\n",
    "            if c not in currNode.children:\n",
    "                currNode.children[c] = TrieNode()\n",
    "            currNode = currNode.children[c]\n",
    "        currNode.isEndWord = True\n",
    "        \n",
    "    def search(self, word):\n",
    "        currNode = self.root\n",
    "        for c in word:\n",
    "            if c in currNode.children:\n",
    "                currNode = currNode.children[c]\n",
    "            else:\n",
    "                return False\n",
    "                \n",
    "        return currNode.isEndWord\n",
    "    def isPrefix(self, word):\n",
    "        currNode = self.root\n",
    "        for c in word:\n",
    "            if c in currNode.children:\n",
    "                currNode = currNode.children[c]\n",
    "            else:\n",
    "                return False\n",
    "        return True"
   ]
  }
 ],
 "metadata": {
  "kernelspec": {
   "display_name": "Python 3 (ipykernel)",
   "language": "python",
   "name": "python3"
  },
  "language_info": {
   "codemirror_mode": {
    "name": "ipython",
    "version": 3
   },
   "file_extension": ".py",
   "mimetype": "text/x-python",
   "name": "python",
   "nbconvert_exporter": "python",
   "pygments_lexer": "ipython3",
   "version": "3.12.3"
  }
 },
 "nbformat": 4,
 "nbformat_minor": 5
}
