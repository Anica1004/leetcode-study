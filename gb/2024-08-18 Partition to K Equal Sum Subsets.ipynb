{
 "cells": [
  {
   "cell_type": "code",
   "execution_count": null,
   "id": "87b478f7-820b-4bcf-8e5e-280f94924e9d",
   "metadata": {},
   "outputs": [],
   "source": [
    "class Solution:\n",
    "    def canPartitionKSubsets(self, nums: List[int], k: int) -> bool:\n",
    "        if sum(nums) % k != 0:\n",
    "            return False\n",
    "\n",
    "        target = sum(nums) // k\n",
    "        visited = set()\n",
    "        \n",
    "        def backtrack(i, t, k):\n",
    "            if k == 0:\n",
    "                return True\n",
    "            if t == target:\n",
    "                if backtrack(0, 0, k-1):\n",
    "                    return True\n",
    "            \n",
    "            for j in range(i, len(nums)):\n",
    "                if j in visited:\n",
    "                    continue\n",
    "                if t + nums[j] > target:\n",
    "                    continue\n",
    "                \n",
    "                visited.add(j)\n",
    "                if backtrack(j+1, t + nums[j], k):\n",
    "                    return True\n",
    "                visited.remove(j)\n",
    "            return False\n",
    "\n",
    "        return backtrack(0, 0, k)\n"
   ]
  }
 ],
 "metadata": {
  "kernelspec": {
   "display_name": "Python 3 (ipykernel)",
   "language": "python",
   "name": "python3"
  },
  "language_info": {
   "codemirror_mode": {
    "name": "ipython",
    "version": 3
   },
   "file_extension": ".py",
   "mimetype": "text/x-python",
   "name": "python",
   "nbconvert_exporter": "python",
   "pygments_lexer": "ipython3",
   "version": "3.12.3"
  }
 },
 "nbformat": 4,
 "nbformat_minor": 5
}
