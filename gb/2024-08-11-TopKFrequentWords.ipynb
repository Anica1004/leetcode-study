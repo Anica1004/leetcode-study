{
 "cells": [
  {
   "cell_type": "code",
   "execution_count": null,
   "id": "49f97b99-4634-44de-9145-69766adb4723",
   "metadata": {},
   "outputs": [],
   "source": [
    "# Given an array of strings words and an integer k, return the k most frequent strings.\n",
    "\n",
    "# Return the answer sorted by the frequency from highest to lowest. Sort the words with the same frequency by their lexicographical order.\n",
    "\n",
    "\n",
    "class Solution:\n",
    "    def topKFrequent(self, words: List[str], k: int) -> List[str]:\n",
    "        wordCount = collections.defaultdict(int)\n",
    "        # Space: O(N)\n",
    "        for word in words:\n",
    "            wordCount[word] += 1\n",
    "        # TIME: O(N)\n",
    "        maxHeap = []\n",
    "\n",
    "        for key, val in wordCount.items():\n",
    "            heapq.heappush(maxHeap, (-1 * val, key))\n",
    "        # O(logN)\n",
    "        res = []\n",
    "\n",
    "        while k > 0:\n",
    "            wordTuple = heapq.heappop(maxHeap) # O(N)\n",
    "            res.append(wordTuple[1])\n",
    "            k -= 1\n",
    "        return res"
   ]
  }
 ],
 "metadata": {
  "kernelspec": {
   "display_name": "Python 3 (ipykernel)",
   "language": "python",
   "name": "python3"
  },
  "language_info": {
   "codemirror_mode": {
    "name": "ipython",
    "version": 3
   },
   "file_extension": ".py",
   "mimetype": "text/x-python",
   "name": "python",
   "nbconvert_exporter": "python",
   "pygments_lexer": "ipython3",
   "version": "3.12.3"
  }
 },
 "nbformat": 4,
 "nbformat_minor": 5
}
