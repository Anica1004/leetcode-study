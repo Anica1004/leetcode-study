{
 "cells": [
  {
   "cell_type": "code",
   "execution_count": null,
   "id": "e906a81c-1d42-43ca-b90f-fa042078aa16",
   "metadata": {},
   "outputs": [],
   "source": [
    "class TrieNode:\n",
    "    def __init__(self):\n",
    "        self.children = {}\n",
    "        self.isEnd = False\n",
    "\n",
    "class TrieWords:\n",
    "    def __init__(self):\n",
    "        self.root = TrieNode()\n",
    "    def addWord(self, word):\n",
    "        node = self.root\n",
    "        for c in word:\n",
    "            if c not in node.children:\n",
    "                node.children[c] = TrieNode()\n",
    "            node = node.children[c]\n",
    "        node.isEnd = True\n",
    "\n",
    "    def search(self, word):\n",
    "        def traverse(i, node):\n",
    "            currNode = node\n",
    "            for j in range(i, len(word)):\n",
    "                c = word[j]\n",
    "                if c == \"#\":\n",
    "                    for nei in currNode.children.values():\n",
    "                        if traverse(j+1, nei):\n",
    "                            return True\n",
    "                    return False\n",
    "                else:\n",
    "                    if c in currNode.children:\n",
    "                        currNode = currNode.children[c]\n",
    "                    else:\n",
    "                        return False\n",
    "\n",
    "            return currNode.isEnd\n",
    "        return traverse(0, self.root)"
   ]
  }
 ],
 "metadata": {
  "kernelspec": {
   "display_name": "Python 3 (ipykernel)",
   "language": "python",
   "name": "python3"
  },
  "language_info": {
   "codemirror_mode": {
    "name": "ipython",
    "version": 3
   },
   "file_extension": ".py",
   "mimetype": "text/x-python",
   "name": "python",
   "nbconvert_exporter": "python",
   "pygments_lexer": "ipython3",
   "version": "3.12.3"
  }
 },
 "nbformat": 4,
 "nbformat_minor": 5
}
