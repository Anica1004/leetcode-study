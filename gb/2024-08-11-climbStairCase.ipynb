{
 "cells": [
  {
   "cell_type": "code",
   "execution_count": null,
   "id": "2ac89034-5944-4720-b618-12630d28e399",
   "metadata": {},
   "outputs": [],
   "source": [
    "\n",
    "class Solution:\n",
    "    def climbStart(self, n):\n",
    "\n",
    "        # f(n) = f(n-1) + f(n-2)\n",
    "\n",
    "        dp = [0] * (n*1)\n",
    "\n",
    "        # [0, 1, 2, 3, 4, 5, ..., n]\n",
    "\n",
    "        # [0, 1, 2, 3, 5,...]\n",
    "\n",
    "        dp[1] = 1\n",
    "        dp[2] = 2\n",
    "\n",
    "        for i in range(3, n+1):\n",
    "            dp[i] = dp[i-1] + dp[i-2]\n",
    "\n",
    "        return dp[-1]\n",
    "\n",
    "    def climbStair2(self, n):\n",
    "        step1, step2 = 1, 1\n",
    "\n",
    "        for i in range(2, n+1):\n",
    "            newStep = step1 + step2\n",
    "            step1 = step2\n",
    "            step2 = newStep\n",
    "        return step2"
   ]
  }
 ],
 "metadata": {
  "kernelspec": {
   "display_name": "Python 3 (ipykernel)",
   "language": "python",
   "name": "python3"
  },
  "language_info": {
   "codemirror_mode": {
    "name": "ipython",
    "version": 3
   },
   "file_extension": ".py",
   "mimetype": "text/x-python",
   "name": "python",
   "nbconvert_exporter": "python",
   "pygments_lexer": "ipython3",
   "version": "3.12.3"
  }
 },
 "nbformat": 4,
 "nbformat_minor": 5
}
